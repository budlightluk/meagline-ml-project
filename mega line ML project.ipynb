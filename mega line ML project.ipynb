{
 "cells": [
  {
   "cell_type": "markdown",
   "id": "a257b546",
   "metadata": {},
   "source": [
    "# описание проекта\n",
    "- Оператор мобильной связи «Мегалайн» выяснил: многие клиенты пользуются архивными тарифами. Они хотят построить систему, способную проанализировать поведение клиентов и предложить пользователям новый тариф: «Смарт» или «Ультра».\n",
    "- В вашем распоряжении данные о поведении клиентов, которые уже перешли на эти тарифы (из проекта курса «Статистический анализ данных»). Нужно построить модель для задачи классификации, которая выберет подходящий тариф. Предобработка данных не понадобится — вы её уже сделали.\n",
    "- Постройте модель с максимально большим значением accuracy. Чтобы сдать проект успешно, нужно довести долю правильных ответов по крайней мере до 0.75. Проверьте accuracy на тестовой выборке самостоятельно."
   ]
  },
  {
   "cell_type": "markdown",
   "id": "eb7de36c",
   "metadata": {},
   "source": [
    "# 1.Сначала изучу данные и разделю по выборкам"
   ]
  },
  {
   "cell_type": "code",
   "execution_count": 1,
   "id": "057d955b",
   "metadata": {},
   "outputs": [
    {
     "data": {
      "text/html": [
       "<div>\n",
       "<style scoped>\n",
       "    .dataframe tbody tr th:only-of-type {\n",
       "        vertical-align: middle;\n",
       "    }\n",
       "\n",
       "    .dataframe tbody tr th {\n",
       "        vertical-align: top;\n",
       "    }\n",
       "\n",
       "    .dataframe thead th {\n",
       "        text-align: right;\n",
       "    }\n",
       "</style>\n",
       "<table border=\"1\" class=\"dataframe\">\n",
       "  <thead>\n",
       "    <tr style=\"text-align: right;\">\n",
       "      <th></th>\n",
       "      <th>calls</th>\n",
       "      <th>minutes</th>\n",
       "      <th>messages</th>\n",
       "      <th>mb_used</th>\n",
       "      <th>is_ultra</th>\n",
       "    </tr>\n",
       "  </thead>\n",
       "  <tbody>\n",
       "    <tr>\n",
       "      <th>0</th>\n",
       "      <td>40.0</td>\n",
       "      <td>311.90</td>\n",
       "      <td>83.0</td>\n",
       "      <td>19915.42</td>\n",
       "      <td>0</td>\n",
       "    </tr>\n",
       "    <tr>\n",
       "      <th>1</th>\n",
       "      <td>85.0</td>\n",
       "      <td>516.75</td>\n",
       "      <td>56.0</td>\n",
       "      <td>22696.96</td>\n",
       "      <td>0</td>\n",
       "    </tr>\n",
       "    <tr>\n",
       "      <th>2</th>\n",
       "      <td>77.0</td>\n",
       "      <td>467.66</td>\n",
       "      <td>86.0</td>\n",
       "      <td>21060.45</td>\n",
       "      <td>0</td>\n",
       "    </tr>\n",
       "    <tr>\n",
       "      <th>3</th>\n",
       "      <td>106.0</td>\n",
       "      <td>745.53</td>\n",
       "      <td>81.0</td>\n",
       "      <td>8437.39</td>\n",
       "      <td>1</td>\n",
       "    </tr>\n",
       "    <tr>\n",
       "      <th>4</th>\n",
       "      <td>66.0</td>\n",
       "      <td>418.74</td>\n",
       "      <td>1.0</td>\n",
       "      <td>14502.75</td>\n",
       "      <td>0</td>\n",
       "    </tr>\n",
       "    <tr>\n",
       "      <th>5</th>\n",
       "      <td>58.0</td>\n",
       "      <td>344.56</td>\n",
       "      <td>21.0</td>\n",
       "      <td>15823.37</td>\n",
       "      <td>0</td>\n",
       "    </tr>\n",
       "    <tr>\n",
       "      <th>6</th>\n",
       "      <td>57.0</td>\n",
       "      <td>431.64</td>\n",
       "      <td>20.0</td>\n",
       "      <td>3738.90</td>\n",
       "      <td>1</td>\n",
       "    </tr>\n",
       "    <tr>\n",
       "      <th>7</th>\n",
       "      <td>15.0</td>\n",
       "      <td>132.40</td>\n",
       "      <td>6.0</td>\n",
       "      <td>21911.60</td>\n",
       "      <td>0</td>\n",
       "    </tr>\n",
       "    <tr>\n",
       "      <th>8</th>\n",
       "      <td>7.0</td>\n",
       "      <td>43.39</td>\n",
       "      <td>3.0</td>\n",
       "      <td>2538.67</td>\n",
       "      <td>1</td>\n",
       "    </tr>\n",
       "    <tr>\n",
       "      <th>9</th>\n",
       "      <td>90.0</td>\n",
       "      <td>665.41</td>\n",
       "      <td>38.0</td>\n",
       "      <td>17358.61</td>\n",
       "      <td>0</td>\n",
       "    </tr>\n",
       "  </tbody>\n",
       "</table>\n",
       "</div>"
      ],
      "text/plain": [
       "   calls  minutes  messages   mb_used  is_ultra\n",
       "0   40.0   311.90      83.0  19915.42         0\n",
       "1   85.0   516.75      56.0  22696.96         0\n",
       "2   77.0   467.66      86.0  21060.45         0\n",
       "3  106.0   745.53      81.0   8437.39         1\n",
       "4   66.0   418.74       1.0  14502.75         0\n",
       "5   58.0   344.56      21.0  15823.37         0\n",
       "6   57.0   431.64      20.0   3738.90         1\n",
       "7   15.0   132.40       6.0  21911.60         0\n",
       "8    7.0    43.39       3.0   2538.67         1\n",
       "9   90.0   665.41      38.0  17358.61         0"
      ]
     },
     "execution_count": 1,
     "metadata": {},
     "output_type": "execute_result"
    }
   ],
   "source": [
    "import pandas as pd\n",
    "df = pd.read_csv('users_behavior.csv')\n",
    "df.head(10)"
   ]
  },
  {
   "cell_type": "code",
   "execution_count": 4,
   "id": "e36754e5",
   "metadata": {},
   "outputs": [
    {
     "data": {
      "text/html": [
       "<div>\n",
       "<style scoped>\n",
       "    .dataframe tbody tr th:only-of-type {\n",
       "        vertical-align: middle;\n",
       "    }\n",
       "\n",
       "    .dataframe tbody tr th {\n",
       "        vertical-align: top;\n",
       "    }\n",
       "\n",
       "    .dataframe thead th {\n",
       "        text-align: right;\n",
       "    }\n",
       "</style>\n",
       "<table border=\"1\" class=\"dataframe\">\n",
       "  <thead>\n",
       "    <tr style=\"text-align: right;\">\n",
       "      <th></th>\n",
       "      <th>calls</th>\n",
       "      <th>minutes</th>\n",
       "      <th>messages</th>\n",
       "      <th>mb_used</th>\n",
       "      <th>is_ultra</th>\n",
       "    </tr>\n",
       "  </thead>\n",
       "  <tbody>\n",
       "    <tr>\n",
       "      <th>count</th>\n",
       "      <td>3214.000000</td>\n",
       "      <td>3214.000000</td>\n",
       "      <td>3214.000000</td>\n",
       "      <td>3214.000000</td>\n",
       "      <td>3214.000000</td>\n",
       "    </tr>\n",
       "    <tr>\n",
       "      <th>mean</th>\n",
       "      <td>63.038892</td>\n",
       "      <td>438.208787</td>\n",
       "      <td>38.281269</td>\n",
       "      <td>17207.673836</td>\n",
       "      <td>0.306472</td>\n",
       "    </tr>\n",
       "    <tr>\n",
       "      <th>std</th>\n",
       "      <td>33.236368</td>\n",
       "      <td>234.569872</td>\n",
       "      <td>36.148326</td>\n",
       "      <td>7570.968246</td>\n",
       "      <td>0.461100</td>\n",
       "    </tr>\n",
       "    <tr>\n",
       "      <th>min</th>\n",
       "      <td>0.000000</td>\n",
       "      <td>0.000000</td>\n",
       "      <td>0.000000</td>\n",
       "      <td>0.000000</td>\n",
       "      <td>0.000000</td>\n",
       "    </tr>\n",
       "    <tr>\n",
       "      <th>25%</th>\n",
       "      <td>40.000000</td>\n",
       "      <td>274.575000</td>\n",
       "      <td>9.000000</td>\n",
       "      <td>12491.902500</td>\n",
       "      <td>0.000000</td>\n",
       "    </tr>\n",
       "    <tr>\n",
       "      <th>50%</th>\n",
       "      <td>62.000000</td>\n",
       "      <td>430.600000</td>\n",
       "      <td>30.000000</td>\n",
       "      <td>16943.235000</td>\n",
       "      <td>0.000000</td>\n",
       "    </tr>\n",
       "    <tr>\n",
       "      <th>75%</th>\n",
       "      <td>82.000000</td>\n",
       "      <td>571.927500</td>\n",
       "      <td>57.000000</td>\n",
       "      <td>21424.700000</td>\n",
       "      <td>1.000000</td>\n",
       "    </tr>\n",
       "    <tr>\n",
       "      <th>max</th>\n",
       "      <td>244.000000</td>\n",
       "      <td>1632.060000</td>\n",
       "      <td>224.000000</td>\n",
       "      <td>49745.730000</td>\n",
       "      <td>1.000000</td>\n",
       "    </tr>\n",
       "  </tbody>\n",
       "</table>\n",
       "</div>"
      ],
      "text/plain": [
       "             calls      minutes     messages       mb_used     is_ultra\n",
       "count  3214.000000  3214.000000  3214.000000   3214.000000  3214.000000\n",
       "mean     63.038892   438.208787    38.281269  17207.673836     0.306472\n",
       "std      33.236368   234.569872    36.148326   7570.968246     0.461100\n",
       "min       0.000000     0.000000     0.000000      0.000000     0.000000\n",
       "25%      40.000000   274.575000     9.000000  12491.902500     0.000000\n",
       "50%      62.000000   430.600000    30.000000  16943.235000     0.000000\n",
       "75%      82.000000   571.927500    57.000000  21424.700000     1.000000\n",
       "max     244.000000  1632.060000   224.000000  49745.730000     1.000000"
      ]
     },
     "execution_count": 4,
     "metadata": {},
     "output_type": "execute_result"
    }
   ],
   "source": [
    "df.describe()"
   ]
  },
  {
   "cell_type": "code",
   "execution_count": 5,
   "id": "ab448763",
   "metadata": {},
   "outputs": [
    {
     "name": "stdout",
     "output_type": "stream",
     "text": [
      "<class 'pandas.core.frame.DataFrame'>\n",
      "RangeIndex: 3214 entries, 0 to 3213\n",
      "Data columns (total 5 columns):\n",
      " #   Column    Non-Null Count  Dtype  \n",
      "---  ------    --------------  -----  \n",
      " 0   calls     3214 non-null   float64\n",
      " 1   minutes   3214 non-null   float64\n",
      " 2   messages  3214 non-null   float64\n",
      " 3   mb_used   3214 non-null   float64\n",
      " 4   is_ultra  3214 non-null   int64  \n",
      "dtypes: float64(4), int64(1)\n",
      "memory usage: 125.7 KB\n"
     ]
    }
   ],
   "source": [
    "df.info()"
   ]
  },
  {
   "cell_type": "markdown",
   "id": "da1a044e",
   "metadata": {},
   "source": [
    "- данных не так много. Здесь явная задача классификации. За целевой признак беру is_ultra. Остальные признаки буду использовать для решений по столбцу is_ultra."
   ]
  },
  {
   "cell_type": "code",
   "execution_count": 32,
   "id": "e6b9e8a0",
   "metadata": {},
   "outputs": [
    {
     "name": "stdout",
     "output_type": "stream",
     "text": [
      "Train data size 1928\n",
      "Valid data size 643\n",
      "Test data size 643\n"
     ]
    }
   ],
   "source": [
    "from sklearn.model_selection import train_test_split\n",
    "df_train_data, df_div_data = train_test_split(df, test_size=0.4, random_state=2281456)\n",
    "df_valid_data, df_test_data = train_test_split(df_div_data, test_size=0.5, random_state=2281456)\n",
    "print('Train data size', df_train_data.shape[0])\n",
    "print('Valid data size', df_valid_data.shape[0])\n",
    "print('Test data size', df_test_data.shape[0])"
   ]
  },
  {
   "cell_type": "markdown",
   "id": "916cefb5",
   "metadata": {},
   "source": [
    "- Разбил по принципу 3/1/1\n",
    "\n",
    "- Раздам признаки далее"
   ]
  },
  {
   "cell_type": "code",
   "execution_count": 33,
   "id": "a5eeebdd",
   "metadata": {},
   "outputs": [],
   "source": [
    "df_train_data_features = df_train_data.drop(['is_ultra'], axis=1)\n",
    "df_train_data_target = df_train_data['is_ultra']\n",
    "df_valid_data_features = df_valid_data.drop(['is_ultra'], axis=1)\n",
    "df_valid_data_target = df_valid_data['is_ultra']\n",
    "df_test_data_features = df_test_data.drop(['is_ultra'], axis=1)\n",
    "df_test_data_target = df_test_data['is_ultra']\n"
   ]
  },
  {
   "cell_type": "markdown",
   "id": "07589ca4",
   "metadata": {},
   "source": [
    "- обучу по df_train_data, валидация по df_valid_data. Лучшую из моделей будет протестирована на df_test_data.\n",
    "\n",
    "# 2. обучение моделей и подбор лучшего гиперпараметра\n"
   ]
  },
  {
   "cell_type": "code",
   "execution_count": 15,
   "id": "621271a8",
   "metadata": {},
   "outputs": [
    {
     "name": "stdout",
     "output_type": "stream",
     "text": [
      "Depth 1 Accuracy 0.7558320373250389\n",
      "Depth 2 Accuracy 0.7838258164852255\n",
      "Depth 3 Accuracy 0.7947122861586314\n",
      "Depth 4 Accuracy 0.7853810264385692\n",
      "Depth 5 Accuracy 0.7947122861586314\n",
      "Depth 6 Accuracy 0.7900466562986003\n",
      "Depth 7 Accuracy 0.7916018662519441\n",
      "Depth 8 Accuracy 0.8009331259720062\n",
      "Depth 9 Accuracy 0.7947122861586314\n",
      "Depth 10 Accuracy 0.7900466562986003\n",
      "Depth 11 Accuracy 0.7916018662519441\n",
      "Depth 12 Accuracy 0.776049766718507\n",
      "Depth 13 Accuracy 0.7573872472783826\n",
      "Depth 14 Accuracy 0.7418351477449455\n",
      "Depth 15 Accuracy 0.7418351477449455\n",
      "Depth 16 Accuracy 0.7465007776049767\n",
      "Depth 17 Accuracy 0.7433903576982893\n",
      "Depth 18 Accuracy 0.7356143079315708\n",
      "Depth 19 Accuracy 0.7433903576982893\n",
      "Best depth 8 Best acc 0.8009331259720062\n"
     ]
    }
   ],
   "source": [
    "best_depth = 0\n",
    "best_accuracy = 0\n",
    "from sklearn.tree import DecisionTreeClassifier \n",
    "from sklearn.metrics import accuracy_score\n",
    "for depth in range(1,20):\n",
    "    model = DecisionTreeClassifier(random_state=2281456, max_depth=depth)\n",
    "    model.fit(df_train_data_features, df_train_data_target)\n",
    "    valid_predictions = model.predict(df_valid_data_features)\n",
    "    accuracy = accuracy_score(df_valid_data_target, valid_predictions)\n",
    "    print('Depth', depth, 'Accuracy', accuracy)\n",
    "    if accuracy > best_accuracy:\n",
    "        best_depth = depth\n",
    "        best_accuracy = accuracy\n",
    "print('Best depth', best_depth, 'Best acc', best_accuracy)"
   ]
  },
  {
   "cell_type": "markdown",
   "id": "0defce34",
   "metadata": {},
   "source": [
    "- Возьму лучшую глубину в качестве начального гипермараметра"
   ]
  },
  {
   "cell_type": "code",
   "execution_count": 24,
   "id": "176f345a",
   "metadata": {},
   "outputs": [
    {
     "name": "stdout",
     "output_type": "stream",
     "text": [
      "Depth 8 Accuracy 0.8009331259720062\n"
     ]
    }
   ],
   "source": [
    "best_tree_model = DecisionTreeClassifier(random_state=2281456, max_depth=8)\n",
    "best_tree_model.fit(df_train_data_features, df_train_data_target)\n",
    "valid_predictions = best_tree_model.predict(df_valid_data_features)\n",
    "accuracy = accuracy_score(df_valid_data_target, valid_predictions)\n",
    "print('Depth 8', 'Accuracy', accuracy)"
   ]
  },
  {
   "cell_type": "code",
   "execution_count": 25,
   "id": "a985cc72",
   "metadata": {},
   "outputs": [
    {
     "name": "stdout",
     "output_type": "stream",
     "text": [
      "Depth 8 Accuracy 0.7869362363919129\n"
     ]
    }
   ],
   "source": [
    "best_tree_model = DecisionTreeClassifier(random_state=2281456, max_depth=8, criterion=\"entropy\")\n",
    "best_tree_model.fit(df_train_data_features, df_train_data_target)\n",
    "valid_predictions = best_tree_model.predict(df_valid_data_features)\n",
    "accuracy = accuracy_score(df_valid_data_target, valid_predictions)\n",
    "print('Depth 8', 'Accuracy', accuracy)"
   ]
  },
  {
   "cell_type": "code",
   "execution_count": 26,
   "id": "146be6bb",
   "metadata": {},
   "outputs": [
    {
     "name": "stdout",
     "output_type": "stream",
     "text": [
      "Depth 8 Accuracy 0.7838258164852255\n"
     ]
    }
   ],
   "source": [
    "best_tree_model = DecisionTreeClassifier(random_state=2281456, max_depth=8, splitter='random')\n",
    "best_tree_model.fit(df_train_data_features, df_train_data_target)\n",
    "valid_predictions = best_tree_model.predict(df_valid_data_features)\n",
    "accuracy = accuracy_score(df_valid_data_target, valid_predictions)\n",
    "print('Depth 8', 'Accuracy', accuracy)"
   ]
  },
  {
   "cell_type": "markdown",
   "id": "490d71b4",
   "metadata": {},
   "source": [
    "## Gini показал себя лучше всех. Дальше буду учитывать именно его\n",
    "\n",
    "- перехожу к оценке RandomForestClassifier"
   ]
  },
  {
   "cell_type": "code",
   "execution_count": 81,
   "id": "f8d27cb7",
   "metadata": {},
   "outputs": [
    {
     "name": "stdout",
     "output_type": "stream",
     "text": [
      "Estimators 1 Accuracy 0.7045101088646968\n",
      "Estimators 2 Accuracy 0.7667185069984448\n",
      "Estimators 3 Accuracy 0.7527216174183515\n",
      "Estimators 4 Accuracy 0.7900466562986003\n",
      "Estimators 5 Accuracy 0.7729393468118196\n",
      "Estimators 6 Accuracy 0.7931570762052877\n",
      "Estimators 7 Accuracy 0.7869362363919129\n",
      "Estimators 8 Accuracy 0.807153965785381\n",
      "Estimators 9 Accuracy 0.8055987558320373\n",
      "Estimators 10 Accuracy 0.7978227060653188\n",
      "Estimators 11 Accuracy 0.7962674961119751\n",
      "Estimators 12 Accuracy 0.7993779160186625\n",
      "Estimators 13 Accuracy 0.7978227060653188\n",
      "Estimators 14 Accuracy 0.8040435458786936\n",
      "Estimators 15 Accuracy 0.8040435458786936\n",
      "Estimators 16 Accuracy 0.80248833592535\n",
      "Estimators 17 Accuracy 0.80248833592535\n",
      "Estimators 18 Accuracy 0.8087091757387247\n",
      "Estimators 19 Accuracy 0.8133748055987559\n",
      "Best estimators number 19 Best acc 0.8133748055987559\n"
     ]
    }
   ],
   "source": [
    "best_estim = 0\n",
    "best_accuracy = 0\n",
    "from sklearn.ensemble import RandomForestClassifier \n",
    "from sklearn.metrics import accuracy_score\n",
    "for estim in range(1,20):\n",
    "    model = RandomForestClassifier(random_state=2281459, n_estimators=estim)\n",
    "    model.fit(df_train_data_features, df_train_data_target)\n",
    "    valid_predictions = model.predict(df_valid_data_features)\n",
    "    accuracy = accuracy_score(df_valid_data_target, valid_predictions)\n",
    "    print('Estimators', estim, 'Accuracy', accuracy)\n",
    "    if accuracy > best_accuracy:\n",
    "        best_estim = estim\n",
    "        best_accuracy = accuracy\n",
    "print('Best estimators number', best_estim, 'Best acc', best_accuracy)"
   ]
  },
  {
   "cell_type": "code",
   "execution_count": 86,
   "id": "78c2ec2b",
   "metadata": {},
   "outputs": [
    {
     "name": "stdout",
     "output_type": "stream",
     "text": [
      "N_estim 19 Accuracy 0.8133748055987559\n"
     ]
    }
   ],
   "source": [
    "best_forest_model = RandomForestClassifier(random_state=2281459, n_estimators=19)\n",
    "best_forest_model.fit(df_train_data_features, df_train_data_target)\n",
    "valid_predictions = best_forest_model.predict(df_valid_data_features)\n",
    "accuracy = accuracy_score(df_valid_data_target, valid_predictions)\n",
    "print('N_estim 19', 'Accuracy', accuracy)"
   ]
  },
  {
   "cell_type": "code",
   "execution_count": 87,
   "id": "7af7ed69",
   "metadata": {},
   "outputs": [
    {
     "name": "stdout",
     "output_type": "stream",
     "text": [
      "N_estim 19 Accuracy 0.8087091757387247\n"
     ]
    }
   ],
   "source": [
    "best_forest_model = RandomForestClassifier(random_state=2281459, n_estimators=19, criterion='entropy')\n",
    "best_forest_model.fit(df_train_data_features, df_train_data_target)\n",
    "valid_predictions = best_forest_model.predict(df_valid_data_features)\n",
    "accuracy = accuracy_score(df_valid_data_target, valid_predictions)\n",
    "print('N_estim 19', 'Accuracy', accuracy)"
   ]
  },
  {
   "cell_type": "code",
   "execution_count": 88,
   "id": "8b3ee666",
   "metadata": {},
   "outputs": [
    {
     "name": "stdout",
     "output_type": "stream",
     "text": [
      "N_estim 19 Accuracy 0.7729393468118196\n"
     ]
    }
   ],
   "source": [
    "best_forest_model = RandomForestClassifier(random_state=2281459, n_estimators=19, bootstrap=False)\n",
    "best_forest_model.fit(df_train_data_features, df_train_data_target)\n",
    "valid_predictions = best_forest_model.predict(df_valid_data_features)\n",
    "accuracy = accuracy_score(df_valid_data_target, valid_predictions)\n",
    "print('N_estim 19', 'Accuracy', accuracy)"
   ]
  },
  {
   "cell_type": "code",
   "execution_count": 85,
   "id": "1aef96d4",
   "metadata": {},
   "outputs": [
    {
     "name": "stdout",
     "output_type": "stream",
     "text": [
      "N_estim 19 Accuracy 0.8133748055987559\n"
     ]
    }
   ],
   "source": [
    "best_forest_model = RandomForestClassifier(random_state=2281459, n_estimators=19, warm_start=True)\n",
    "best_forest_model.fit(df_train_data_features, df_train_data_target)\n",
    "valid_predictions = best_forest_model.predict(df_valid_data_features)\n",
    "accuracy = accuracy_score(df_valid_data_target, valid_predictions)\n",
    "print('N_estim 19', 'Accuracy', accuracy)"
   ]
  },
  {
   "cell_type": "markdown",
   "id": "66f18ac0",
   "metadata": {},
   "source": [
    "## Беру последнее из значений за лучшее.\n",
    "\n",
    "- перехожу к логистической регрессии"
   ]
  },
  {
   "cell_type": "code",
   "execution_count": 75,
   "id": "7136c946",
   "metadata": {},
   "outputs": [
    {
     "name": "stdout",
     "output_type": "stream",
     "text": [
      "Itter count 1 Accuracy 0.7107309486780715\n",
      "Itter count 2 Accuracy 0.7107309486780715\n",
      "Itter count 3 Accuracy 0.7107309486780715\n",
      "Itter count 4 Accuracy 0.7107309486780715\n",
      "Itter count 5 Accuracy 0.7107309486780715\n",
      "Itter count 6 Accuracy 0.7107309486780715\n",
      "Itter count 7 Accuracy 0.7107309486780715\n",
      "Itter count 8 Accuracy 0.7107309486780715\n",
      "Itter count 9 Accuracy 0.7107309486780715\n",
      "Itter count 10 Accuracy 0.7107309486780715\n",
      "Itter count 11 Accuracy 0.7107309486780715\n",
      "Itter count 12 Accuracy 0.7107309486780715\n",
      "Itter count 13 Accuracy 0.7107309486780715\n",
      "Itter count 14 Accuracy 0.713841368584759\n",
      "Itter count 15 Accuracy 0.7216174183514774\n",
      "Itter count 16 Accuracy 0.7247278382581649\n",
      "Itter count 17 Accuracy 0.7247278382581649\n",
      "Itter count 18 Accuracy 0.7262830482115086\n",
      "Itter count 19 Accuracy 0.7262830482115086\n",
      "Itter count 20 Accuracy 0.7278382581648523\n",
      "Best count iter 20 Best acc 0.7278382581648523\n"
     ]
    },
    {
     "name": "stderr",
     "output_type": "stream",
     "text": [
      "/Users/olegladygin/opt/anaconda3/lib/python3.9/site-packages/sklearn/linear_model/_logistic.py:814: ConvergenceWarning: lbfgs failed to converge (status=1):\n",
      "STOP: TOTAL NO. of ITERATIONS REACHED LIMIT.\n",
      "\n",
      "Increase the number of iterations (max_iter) or scale the data as shown in:\n",
      "    https://scikit-learn.org/stable/modules/preprocessing.html\n",
      "Please also refer to the documentation for alternative solver options:\n",
      "    https://scikit-learn.org/stable/modules/linear_model.html#logistic-regression\n",
      "  n_iter_i = _check_optimize_result(\n",
      "/Users/olegladygin/opt/anaconda3/lib/python3.9/site-packages/sklearn/linear_model/_logistic.py:814: ConvergenceWarning: lbfgs failed to converge (status=1):\n",
      "STOP: TOTAL NO. of ITERATIONS REACHED LIMIT.\n",
      "\n",
      "Increase the number of iterations (max_iter) or scale the data as shown in:\n",
      "    https://scikit-learn.org/stable/modules/preprocessing.html\n",
      "Please also refer to the documentation for alternative solver options:\n",
      "    https://scikit-learn.org/stable/modules/linear_model.html#logistic-regression\n",
      "  n_iter_i = _check_optimize_result(\n",
      "/Users/olegladygin/opt/anaconda3/lib/python3.9/site-packages/sklearn/linear_model/_logistic.py:814: ConvergenceWarning: lbfgs failed to converge (status=1):\n",
      "STOP: TOTAL NO. of ITERATIONS REACHED LIMIT.\n",
      "\n",
      "Increase the number of iterations (max_iter) or scale the data as shown in:\n",
      "    https://scikit-learn.org/stable/modules/preprocessing.html\n",
      "Please also refer to the documentation for alternative solver options:\n",
      "    https://scikit-learn.org/stable/modules/linear_model.html#logistic-regression\n",
      "  n_iter_i = _check_optimize_result(\n",
      "/Users/olegladygin/opt/anaconda3/lib/python3.9/site-packages/sklearn/linear_model/_logistic.py:814: ConvergenceWarning: lbfgs failed to converge (status=1):\n",
      "STOP: TOTAL NO. of ITERATIONS REACHED LIMIT.\n",
      "\n",
      "Increase the number of iterations (max_iter) or scale the data as shown in:\n",
      "    https://scikit-learn.org/stable/modules/preprocessing.html\n",
      "Please also refer to the documentation for alternative solver options:\n",
      "    https://scikit-learn.org/stable/modules/linear_model.html#logistic-regression\n",
      "  n_iter_i = _check_optimize_result(\n",
      "/Users/olegladygin/opt/anaconda3/lib/python3.9/site-packages/sklearn/linear_model/_logistic.py:814: ConvergenceWarning: lbfgs failed to converge (status=1):\n",
      "STOP: TOTAL NO. of ITERATIONS REACHED LIMIT.\n",
      "\n",
      "Increase the number of iterations (max_iter) or scale the data as shown in:\n",
      "    https://scikit-learn.org/stable/modules/preprocessing.html\n",
      "Please also refer to the documentation for alternative solver options:\n",
      "    https://scikit-learn.org/stable/modules/linear_model.html#logistic-regression\n",
      "  n_iter_i = _check_optimize_result(\n",
      "/Users/olegladygin/opt/anaconda3/lib/python3.9/site-packages/sklearn/linear_model/_logistic.py:814: ConvergenceWarning: lbfgs failed to converge (status=1):\n",
      "STOP: TOTAL NO. of ITERATIONS REACHED LIMIT.\n",
      "\n",
      "Increase the number of iterations (max_iter) or scale the data as shown in:\n",
      "    https://scikit-learn.org/stable/modules/preprocessing.html\n",
      "Please also refer to the documentation for alternative solver options:\n",
      "    https://scikit-learn.org/stable/modules/linear_model.html#logistic-regression\n",
      "  n_iter_i = _check_optimize_result(\n",
      "/Users/olegladygin/opt/anaconda3/lib/python3.9/site-packages/sklearn/linear_model/_logistic.py:814: ConvergenceWarning: lbfgs failed to converge (status=1):\n",
      "STOP: TOTAL NO. of ITERATIONS REACHED LIMIT.\n",
      "\n",
      "Increase the number of iterations (max_iter) or scale the data as shown in:\n",
      "    https://scikit-learn.org/stable/modules/preprocessing.html\n",
      "Please also refer to the documentation for alternative solver options:\n",
      "    https://scikit-learn.org/stable/modules/linear_model.html#logistic-regression\n",
      "  n_iter_i = _check_optimize_result(\n",
      "/Users/olegladygin/opt/anaconda3/lib/python3.9/site-packages/sklearn/linear_model/_logistic.py:814: ConvergenceWarning: lbfgs failed to converge (status=1):\n",
      "STOP: TOTAL NO. of ITERATIONS REACHED LIMIT.\n",
      "\n",
      "Increase the number of iterations (max_iter) or scale the data as shown in:\n",
      "    https://scikit-learn.org/stable/modules/preprocessing.html\n",
      "Please also refer to the documentation for alternative solver options:\n",
      "    https://scikit-learn.org/stable/modules/linear_model.html#logistic-regression\n",
      "  n_iter_i = _check_optimize_result(\n",
      "/Users/olegladygin/opt/anaconda3/lib/python3.9/site-packages/sklearn/linear_model/_logistic.py:814: ConvergenceWarning: lbfgs failed to converge (status=1):\n",
      "STOP: TOTAL NO. of ITERATIONS REACHED LIMIT.\n",
      "\n",
      "Increase the number of iterations (max_iter) or scale the data as shown in:\n",
      "    https://scikit-learn.org/stable/modules/preprocessing.html\n",
      "Please also refer to the documentation for alternative solver options:\n",
      "    https://scikit-learn.org/stable/modules/linear_model.html#logistic-regression\n",
      "  n_iter_i = _check_optimize_result(\n",
      "/Users/olegladygin/opt/anaconda3/lib/python3.9/site-packages/sklearn/linear_model/_logistic.py:814: ConvergenceWarning: lbfgs failed to converge (status=1):\n",
      "STOP: TOTAL NO. of ITERATIONS REACHED LIMIT.\n",
      "\n",
      "Increase the number of iterations (max_iter) or scale the data as shown in:\n",
      "    https://scikit-learn.org/stable/modules/preprocessing.html\n",
      "Please also refer to the documentation for alternative solver options:\n",
      "    https://scikit-learn.org/stable/modules/linear_model.html#logistic-regression\n",
      "  n_iter_i = _check_optimize_result(\n",
      "/Users/olegladygin/opt/anaconda3/lib/python3.9/site-packages/sklearn/linear_model/_logistic.py:814: ConvergenceWarning: lbfgs failed to converge (status=1):\n",
      "STOP: TOTAL NO. of ITERATIONS REACHED LIMIT.\n",
      "\n",
      "Increase the number of iterations (max_iter) or scale the data as shown in:\n",
      "    https://scikit-learn.org/stable/modules/preprocessing.html\n",
      "Please also refer to the documentation for alternative solver options:\n",
      "    https://scikit-learn.org/stable/modules/linear_model.html#logistic-regression\n",
      "  n_iter_i = _check_optimize_result(\n",
      "/Users/olegladygin/opt/anaconda3/lib/python3.9/site-packages/sklearn/linear_model/_logistic.py:814: ConvergenceWarning: lbfgs failed to converge (status=1):\n",
      "STOP: TOTAL NO. of ITERATIONS REACHED LIMIT.\n",
      "\n",
      "Increase the number of iterations (max_iter) or scale the data as shown in:\n",
      "    https://scikit-learn.org/stable/modules/preprocessing.html\n",
      "Please also refer to the documentation for alternative solver options:\n",
      "    https://scikit-learn.org/stable/modules/linear_model.html#logistic-regression\n",
      "  n_iter_i = _check_optimize_result(\n",
      "/Users/olegladygin/opt/anaconda3/lib/python3.9/site-packages/sklearn/linear_model/_logistic.py:814: ConvergenceWarning: lbfgs failed to converge (status=1):\n",
      "STOP: TOTAL NO. of ITERATIONS REACHED LIMIT.\n",
      "\n",
      "Increase the number of iterations (max_iter) or scale the data as shown in:\n",
      "    https://scikit-learn.org/stable/modules/preprocessing.html\n",
      "Please also refer to the documentation for alternative solver options:\n",
      "    https://scikit-learn.org/stable/modules/linear_model.html#logistic-regression\n",
      "  n_iter_i = _check_optimize_result(\n",
      "/Users/olegladygin/opt/anaconda3/lib/python3.9/site-packages/sklearn/linear_model/_logistic.py:814: ConvergenceWarning: lbfgs failed to converge (status=1):\n",
      "STOP: TOTAL NO. of ITERATIONS REACHED LIMIT.\n",
      "\n",
      "Increase the number of iterations (max_iter) or scale the data as shown in:\n",
      "    https://scikit-learn.org/stable/modules/preprocessing.html\n",
      "Please also refer to the documentation for alternative solver options:\n",
      "    https://scikit-learn.org/stable/modules/linear_model.html#logistic-regression\n",
      "  n_iter_i = _check_optimize_result(\n",
      "/Users/olegladygin/opt/anaconda3/lib/python3.9/site-packages/sklearn/linear_model/_logistic.py:814: ConvergenceWarning: lbfgs failed to converge (status=1):\n",
      "STOP: TOTAL NO. of ITERATIONS REACHED LIMIT.\n",
      "\n",
      "Increase the number of iterations (max_iter) or scale the data as shown in:\n",
      "    https://scikit-learn.org/stable/modules/preprocessing.html\n",
      "Please also refer to the documentation for alternative solver options:\n",
      "    https://scikit-learn.org/stable/modules/linear_model.html#logistic-regression\n",
      "  n_iter_i = _check_optimize_result(\n",
      "/Users/olegladygin/opt/anaconda3/lib/python3.9/site-packages/sklearn/linear_model/_logistic.py:814: ConvergenceWarning: lbfgs failed to converge (status=1):\n",
      "STOP: TOTAL NO. of ITERATIONS REACHED LIMIT.\n",
      "\n",
      "Increase the number of iterations (max_iter) or scale the data as shown in:\n",
      "    https://scikit-learn.org/stable/modules/preprocessing.html\n",
      "Please also refer to the documentation for alternative solver options:\n",
      "    https://scikit-learn.org/stable/modules/linear_model.html#logistic-regression\n",
      "  n_iter_i = _check_optimize_result(\n",
      "/Users/olegladygin/opt/anaconda3/lib/python3.9/site-packages/sklearn/linear_model/_logistic.py:814: ConvergenceWarning: lbfgs failed to converge (status=1):\n",
      "STOP: TOTAL NO. of ITERATIONS REACHED LIMIT.\n",
      "\n",
      "Increase the number of iterations (max_iter) or scale the data as shown in:\n",
      "    https://scikit-learn.org/stable/modules/preprocessing.html\n",
      "Please also refer to the documentation for alternative solver options:\n",
      "    https://scikit-learn.org/stable/modules/linear_model.html#logistic-regression\n",
      "  n_iter_i = _check_optimize_result(\n",
      "/Users/olegladygin/opt/anaconda3/lib/python3.9/site-packages/sklearn/linear_model/_logistic.py:814: ConvergenceWarning: lbfgs failed to converge (status=1):\n",
      "STOP: TOTAL NO. of ITERATIONS REACHED LIMIT.\n",
      "\n",
      "Increase the number of iterations (max_iter) or scale the data as shown in:\n",
      "    https://scikit-learn.org/stable/modules/preprocessing.html\n",
      "Please also refer to the documentation for alternative solver options:\n",
      "    https://scikit-learn.org/stable/modules/linear_model.html#logistic-regression\n",
      "  n_iter_i = _check_optimize_result(\n",
      "/Users/olegladygin/opt/anaconda3/lib/python3.9/site-packages/sklearn/linear_model/_logistic.py:814: ConvergenceWarning: lbfgs failed to converge (status=1):\n",
      "STOP: TOTAL NO. of ITERATIONS REACHED LIMIT.\n",
      "\n",
      "Increase the number of iterations (max_iter) or scale the data as shown in:\n",
      "    https://scikit-learn.org/stable/modules/preprocessing.html\n",
      "Please also refer to the documentation for alternative solver options:\n",
      "    https://scikit-learn.org/stable/modules/linear_model.html#logistic-regression\n",
      "  n_iter_i = _check_optimize_result(\n",
      "/Users/olegladygin/opt/anaconda3/lib/python3.9/site-packages/sklearn/linear_model/_logistic.py:814: ConvergenceWarning: lbfgs failed to converge (status=1):\n",
      "STOP: TOTAL NO. of ITERATIONS REACHED LIMIT.\n",
      "\n",
      "Increase the number of iterations (max_iter) or scale the data as shown in:\n",
      "    https://scikit-learn.org/stable/modules/preprocessing.html\n",
      "Please also refer to the documentation for alternative solver options:\n",
      "    https://scikit-learn.org/stable/modules/linear_model.html#logistic-regression\n",
      "  n_iter_i = _check_optimize_result(\n"
     ]
    }
   ],
   "source": [
    "best_max_iter = 0\n",
    "best_accuracy = 0\n",
    "from sklearn.linear_model import LogisticRegression\n",
    "from sklearn.preprocessing import StandardScaler\n",
    "from sklearn.metrics import accuracy_score\n",
    "for max_iter in range(1,21):\n",
    "    model = LogisticRegression(random_state=100500, max_iter=max_iter)\n",
    "    model.fit(df_train_data_features, df_train_data_target)\n",
    "    valid_predictions = model.predict(df_valid_data_features)\n",
    "    accuracy = accuracy_score(df_valid_data_target, valid_predictions)\n",
    "    print('Itter count', max_iter, 'Accuracy', accuracy)\n",
    "    if accuracy > best_accuracy:\n",
    "        best_max_iter = max_iter\n",
    "        best_accuracy = accuracy\n",
    "print('Best count iter', best_max_iter, 'Best acc', best_accuracy)"
   ]
  },
  {
   "cell_type": "code",
   "execution_count": 76,
   "id": "94c32e0f",
   "metadata": {},
   "outputs": [
    {
     "name": "stdout",
     "output_type": "stream",
     "text": [
      "iter count 100 Accuracy 0.7231726283048211\n"
     ]
    }
   ],
   "source": [
    "best_reg_model = LogisticRegression(random_state=100500)\n",
    "best_reg_model.fit(df_train_data_features, df_train_data_target)\n",
    "valid_predictions = best_reg_model.predict(df_valid_data_features)\n",
    "accuracy = accuracy_score(df_valid_data_target, valid_predictions)\n",
    "print('iter count', 100, 'Accuracy', accuracy)"
   ]
  },
  {
   "cell_type": "markdown",
   "id": "c2ca7c67",
   "metadata": {},
   "source": [
    "## В ходе выполненной работы я высянил, что:\n",
    "- Точность модели решающего дерева при глубине 8 равна 0.801\n",
    "- Точность модели случайного леса при количестве деревьев 19 равна 0.813\n",
    "- Точность модели логистической регрессии равна 0.723\n",
    "- Лучшим из результатов считаю модель случайного леса с глубиной 19"
   ]
  },
  {
   "cell_type": "markdown",
   "id": "6dde8b69",
   "metadata": {},
   "source": [
    "# 4.Проверка моделей на тестовой выборке"
   ]
  },
  {
   "cell_type": "code",
   "execution_count": 90,
   "id": "d86d68b7",
   "metadata": {},
   "outputs": [
    {
     "name": "stdout",
     "output_type": "stream",
     "text": [
      "DecTree 0.6967340590979783\n",
      "RandomForest acc 0.7682737169517885\n",
      "Reg acc 0.6967340590979783\n"
     ]
    }
   ],
   "source": [
    "test_predictions = best_tree_model.predict(df_test_data_features)\n",
    "accuracy = accuracy_score(df_test_data_target, test_predictions)\n",
    "print('DecTree',accuracy)\n",
    "test_predictions = best_forest_model.predict(df_test_data_features)\n",
    "accuracy = accuracy_score(df_test_data_target, test_predictions)\n",
    "print('RandomForest acc',accuracy)\n",
    "test_predictions = best_reg_model.predict(df_test_data_features)\n",
    "accuracy = accuracy_score(df_test_data_target, test_predictions)\n",
    "print('Reg acc',accuracy)"
   ]
  },
  {
   "cell_type": "markdown",
   "id": "a08f87c0",
   "metadata": {},
   "source": [
    "# Исходя из данных проверки моделей могу сделать вывод, что условиям задания соответствует только модель случайного леса"
   ]
  },
  {
   "cell_type": "code",
   "execution_count": null,
   "id": "e46799d0",
   "metadata": {},
   "outputs": [],
   "source": []
  }
 ],
 "metadata": {
  "kernelspec": {
   "display_name": "Python 3 (ipykernel)",
   "language": "python",
   "name": "python3"
  },
  "language_info": {
   "codemirror_mode": {
    "name": "ipython",
    "version": 3
   },
   "file_extension": ".py",
   "mimetype": "text/x-python",
   "name": "python",
   "nbconvert_exporter": "python",
   "pygments_lexer": "ipython3",
   "version": "3.9.12"
  }
 },
 "nbformat": 4,
 "nbformat_minor": 5
}
